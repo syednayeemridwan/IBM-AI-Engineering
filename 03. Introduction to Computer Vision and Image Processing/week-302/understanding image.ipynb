{
 "cells": [
  {
   "attachments": {},
   "cell_type": "markdown",
   "metadata": {},
   "source": [
    "# Digital Image"
   ]
  },
  {
   "attachments": {},
   "cell_type": "markdown",
   "metadata": {},
   "source": [
    "- Rectangular array of numbers (height = rows, width = columns)\n",
    "- Rectangular grid of pixels\n",
    "- These pixels can be expressed with numbers based on intensity values (between 0 and 255)\n",
    "- Digital image is the quantized from grid of original image\n",
    "- Gray-scale image has one channel and represents as a square\n",
    "- Color image has 3 channels and represents as a cube (0 = red, 1 = blue, 2 =  green)\n",
    "- popular image formats are png and jpg that reduce file size compared to other formats\n"
   ]
  },
  {
   "attachments": {},
   "cell_type": "markdown",
   "metadata": {},
   "source": [
    "# Image mask"
   ]
  },
  {
   "attachments": {},
   "cell_type": "markdown",
   "metadata": {},
   "source": [
    "- used to identify objects\n",
    "- corresponding object (object in interest) is represented with 1\n",
    "- Everything else is represented with 0"
   ]
  },
  {
   "attachments": {},
   "cell_type": "markdown",
   "metadata": {},
   "source": [
    "# Import image"
   ]
  },
  {
   "cell_type": "code",
   "execution_count": null,
   "metadata": {},
   "outputs": [],
   "source": [
    "from PIL import Image\n",
    "my_image = Image.open(\"lenna.png\")\n",
    "\n",
    "# Show image\n",
    "my_image.show()\n",
    "\n",
    "# Alternative show image\n",
    "import matplotlib.pyplot as plt\n",
    "plt.imshow(my_image)\n",
    "\n",
    "# See format\n",
    "print(my_image.format)\n",
    "\n",
    "# See dimension\n",
    "print(my_image.size)\n",
    "\n",
    "# See mode\n",
    "print(my_image.mode)"
   ]
  },
  {
   "attachments": {},
   "cell_type": "markdown",
   "metadata": {},
   "source": [
    "# Convert to grayscale"
   ]
  },
  {
   "cell_type": "code",
   "execution_count": null,
   "metadata": {},
   "outputs": [],
   "source": [
    "from PIL import ImageOps\n",
    "gray_image = ImageOps.grayscale(\"lenna.png\")\n",
    "\n",
    "# Show image\n",
    "gray_image.show()\n",
    "\n",
    "# Save the image\n",
    "gray_image.save(\"gray_lenna.png\")\n",
    "\n",
    "# See format\n",
    "print(gray_image.format)\n",
    "\n",
    "# See dimension\n",
    "print(gray_image.size)\n",
    "\n",
    "# See mode\n",
    "print(gray_image.mode)"
   ]
  },
  {
   "cell_type": "markdown",
   "metadata": {},
   "source": []
  }
 ],
 "metadata": {
  "language_info": {
   "name": "python"
  },
  "orig_nbformat": 4
 },
 "nbformat": 4,
 "nbformat_minor": 2
}
