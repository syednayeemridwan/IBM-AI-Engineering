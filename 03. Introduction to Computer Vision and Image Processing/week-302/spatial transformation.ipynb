{
 "cells": [
  {
   "attachments": {},
   "cell_type": "markdown",
   "metadata": {},
   "source": [
    "### Convolution"
   ]
  },
  {
   "attachments": {},
   "cell_type": "markdown",
   "metadata": {},
   "source": [
    "<center><img src=\"images/06.01.png\"  style=\"width: 400px, height: 300px;\"/></center>\n",
    "<center><img src=\"images/06.02.png\"  style=\"width: 400px, height: 300px;\"/></center>\n"
   ]
  },
  {
   "attachments": {},
   "cell_type": "markdown",
   "metadata": {},
   "source": [
    "- Also known as linear filtering\n",
    "- filter is slided through the pixels of an image\n",
    "- Sliding is done from left to right, up to down with a specified step \n",
    "\tsize (stride)\n",
    "- It is the dot product of filter and the overlapping pixel values\n",
    "- Each filter creates a new reduced matrix from the \n",
    "\toriginal/previous pixel matrix\n",
    "- In order to keep the same size as original image, use use padding (column and\n",
    "\trows consisting of 0s)\n",
    "- ReLU filters the output of convolution step\n",
    "    - Helps to retain positive information and discard negative information\n",
    "    - Overcomes the vanishing gradient problem introduced by sigmoid"
   ]
  },
  {
   "attachments": {},
   "cell_type": "markdown",
   "metadata": {},
   "source": [
    "### Low Pass Filter"
   ]
  },
  {
   "attachments": {},
   "cell_type": "markdown",
   "metadata": {},
   "source": [
    "<center><img src=\"images/06.03.png\"  style=\"width: 400px, height: 300px;\"/></center>\n",
    "<center><img src=\"images/06.04.png\"  style=\"width: 400px, height: 300px;\"/></center>\n"
   ]
  },
  {
   "attachments": {},
   "cell_type": "markdown",
   "metadata": {},
   "source": [
    "- Mean filter\n",
    "- Used to smooth the image \n",
    "- Averaging the pixel values in the neighborhood\n",
    "- Reduce noise\n",
    "- But image becomes blurry\n",
    "- Edges appear less sharp\n",
    "- Trade-off : Better smoothness for reduced sharpness\n",
    "- high pass filter \n",
    "    - Opposite to low pass filter\n",
    "    - Better sharpness (also called sharpening)\n",
    "    - enhancing the edges"
   ]
  },
  {
   "attachments": {},
   "cell_type": "markdown",
   "metadata": {},
   "source": [
    "<center><img src=\"images/06.15.png\"  style=\"width: 400px, height: 300px;\"/></center>\n",
    "<center><img src=\"images/06.16.png\"  style=\"width: 400px, height: 300px;\"/></center>\n"
   ]
  },
  {
   "attachments": {},
   "cell_type": "markdown",
   "metadata": {},
   "source": [
    "### Edge Detection"
   ]
  },
  {
   "attachments": {},
   "cell_type": "markdown",
   "metadata": {},
   "source": [
    "<center><img src=\"images/06.05.png\"  style=\"width: 400px, height: 300px;\"/></center>\n",
    "<center><img src=\"images/06.06.png\"  style=\"width: 400px, height: 300px;\"/></center>\n",
    "<center><img src=\"images/06.07.png\"  style=\"width: 400px, height: 300px;\"/></center>\n",
    "<center><img src=\"images/06.08.png\"  style=\"width: 400px, height: 300px;\"/></center>\n",
    "<center><img src=\"images/06.09.png\"  style=\"width: 400px, height: 300px;\"/></center>\n",
    "<center><img src=\"images/06.10.png\"  style=\"width: 400px, height: 300px;\"/></center>\n",
    "<center><img src=\"images/06.11.png\"  style=\"width: 400px, height: 300px;\"/></center>\n",
    "<center><img src=\"images/06.12.png\"  style=\"width: 400px, height: 300px;\"/></center>\n",
    "\n"
   ]
  },
  {
   "attachments": {},
   "cell_type": "markdown",
   "metadata": {},
   "source": [
    "- Areas in image where image brightness changes sharply\n",
    "- Uses methods that approximates derivatives\n",
    "- When taking difference between 2 consecutive pixels, the positive value represents the directional vector of edge\n",
    "- When taking difference between 2 consecutive pixels, the negative value represents the opposite directional vector of edge\n",
    "- We can also get the same result bu convolving the pictures with special kernels or filters (sobel operators)\n",
    "- Combining the results of all convolution will give us an approximation of gradient vector in all direction\n",
    "- Magnitude of the gradient gives us the intensity value, which is an image that represent edges\n",
    "- Angle of the gradient gives us the direction of edges"
   ]
  },
  {
   "attachments": {},
   "cell_type": "markdown",
   "metadata": {},
   "source": [
    "### Median Filter"
   ]
  },
  {
   "attachments": {},
   "cell_type": "markdown",
   "metadata": {},
   "source": [
    "<center><img src=\"images/06.13.png\"  style=\"width: 400px, height: 300px;\"/></center>\n",
    "<center><img src=\"images/06.14.png\"  style=\"width: 400px, height: 300px;\"/></center>\n"
   ]
  },
  {
   "attachments": {},
   "cell_type": "markdown",
   "metadata": {},
   "source": [
    "- Great for removing noise\n",
    "- May distort the image\n"
   ]
  }
 ],
 "metadata": {
  "language_info": {
   "name": "python"
  },
  "orig_nbformat": 4
 },
 "nbformat": 4,
 "nbformat_minor": 2
}
