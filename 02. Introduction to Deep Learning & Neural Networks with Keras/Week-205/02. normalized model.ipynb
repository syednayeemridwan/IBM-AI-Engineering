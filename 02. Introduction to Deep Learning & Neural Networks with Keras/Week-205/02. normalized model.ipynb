{
  "cells": [
    {
      "cell_type": "code",
      "execution_count": 2,
      "metadata": {
        "id": "Ca0wDC8lgvU9"
      },
      "outputs": [],
      "source": [
        "import pandas as pd\n",
        "df = pd.read_csv(\"concrete_data.csv\")"
      ]
    },
    {
      "cell_type": "code",
      "execution_count": 3,
      "metadata": {
        "colab": {
          "base_uri": "https://localhost:8080/",
          "height": 206
        },
        "id": "vF3Ddo71g2_J",
        "outputId": "f3e4e8ab-bd75-4b50-d848-6fefb149313b"
      },
      "outputs": [
        {
          "data": {
            "text/html": [
              "\n",
              "  <div id=\"df-bfa407a1-3a89-41d4-860d-c0fae592cba5\">\n",
              "    <div class=\"colab-df-container\">\n",
              "      <div>\n",
              "<style scoped>\n",
              "    .dataframe tbody tr th:only-of-type {\n",
              "        vertical-align: middle;\n",
              "    }\n",
              "\n",
              "    .dataframe tbody tr th {\n",
              "        vertical-align: top;\n",
              "    }\n",
              "\n",
              "    .dataframe thead th {\n",
              "        text-align: right;\n",
              "    }\n",
              "</style>\n",
              "<table border=\"1\" class=\"dataframe\">\n",
              "  <thead>\n",
              "    <tr style=\"text-align: right;\">\n",
              "      <th></th>\n",
              "      <th>Cement</th>\n",
              "      <th>Blast Furnace Slag</th>\n",
              "      <th>Fly Ash</th>\n",
              "      <th>Water</th>\n",
              "      <th>Superplasticizer</th>\n",
              "      <th>Coarse Aggregate</th>\n",
              "      <th>Fine Aggregate</th>\n",
              "      <th>Age</th>\n",
              "      <th>Strength</th>\n",
              "    </tr>\n",
              "  </thead>\n",
              "  <tbody>\n",
              "    <tr>\n",
              "      <th>0</th>\n",
              "      <td>540.0</td>\n",
              "      <td>0.0</td>\n",
              "      <td>0.0</td>\n",
              "      <td>162.0</td>\n",
              "      <td>2.5</td>\n",
              "      <td>1040.0</td>\n",
              "      <td>676.0</td>\n",
              "      <td>28</td>\n",
              "      <td>79.99</td>\n",
              "    </tr>\n",
              "    <tr>\n",
              "      <th>1</th>\n",
              "      <td>540.0</td>\n",
              "      <td>0.0</td>\n",
              "      <td>0.0</td>\n",
              "      <td>162.0</td>\n",
              "      <td>2.5</td>\n",
              "      <td>1055.0</td>\n",
              "      <td>676.0</td>\n",
              "      <td>28</td>\n",
              "      <td>61.89</td>\n",
              "    </tr>\n",
              "    <tr>\n",
              "      <th>2</th>\n",
              "      <td>332.5</td>\n",
              "      <td>142.5</td>\n",
              "      <td>0.0</td>\n",
              "      <td>228.0</td>\n",
              "      <td>0.0</td>\n",
              "      <td>932.0</td>\n",
              "      <td>594.0</td>\n",
              "      <td>270</td>\n",
              "      <td>40.27</td>\n",
              "    </tr>\n",
              "    <tr>\n",
              "      <th>3</th>\n",
              "      <td>332.5</td>\n",
              "      <td>142.5</td>\n",
              "      <td>0.0</td>\n",
              "      <td>228.0</td>\n",
              "      <td>0.0</td>\n",
              "      <td>932.0</td>\n",
              "      <td>594.0</td>\n",
              "      <td>365</td>\n",
              "      <td>41.05</td>\n",
              "    </tr>\n",
              "    <tr>\n",
              "      <th>4</th>\n",
              "      <td>198.6</td>\n",
              "      <td>132.4</td>\n",
              "      <td>0.0</td>\n",
              "      <td>192.0</td>\n",
              "      <td>0.0</td>\n",
              "      <td>978.4</td>\n",
              "      <td>825.5</td>\n",
              "      <td>360</td>\n",
              "      <td>44.30</td>\n",
              "    </tr>\n",
              "  </tbody>\n",
              "</table>\n",
              "</div>\n",
              "      <button class=\"colab-df-convert\" onclick=\"convertToInteractive('df-bfa407a1-3a89-41d4-860d-c0fae592cba5')\"\n",
              "              title=\"Convert this dataframe to an interactive table.\"\n",
              "              style=\"display:none;\">\n",
              "        \n",
              "  <svg xmlns=\"http://www.w3.org/2000/svg\" height=\"24px\"viewBox=\"0 0 24 24\"\n",
              "       width=\"24px\">\n",
              "    <path d=\"M0 0h24v24H0V0z\" fill=\"none\"/>\n",
              "    <path d=\"M18.56 5.44l.94 2.06.94-2.06 2.06-.94-2.06-.94-.94-2.06-.94 2.06-2.06.94zm-11 1L8.5 8.5l.94-2.06 2.06-.94-2.06-.94L8.5 2.5l-.94 2.06-2.06.94zm10 10l.94 2.06.94-2.06 2.06-.94-2.06-.94-.94-2.06-.94 2.06-2.06.94z\"/><path d=\"M17.41 7.96l-1.37-1.37c-.4-.4-.92-.59-1.43-.59-.52 0-1.04.2-1.43.59L10.3 9.45l-7.72 7.72c-.78.78-.78 2.05 0 2.83L4 21.41c.39.39.9.59 1.41.59.51 0 1.02-.2 1.41-.59l7.78-7.78 2.81-2.81c.8-.78.8-2.07 0-2.86zM5.41 20L4 18.59l7.72-7.72 1.47 1.35L5.41 20z\"/>\n",
              "  </svg>\n",
              "      </button>\n",
              "      \n",
              "  <style>\n",
              "    .colab-df-container {\n",
              "      display:flex;\n",
              "      flex-wrap:wrap;\n",
              "      gap: 12px;\n",
              "    }\n",
              "\n",
              "    .colab-df-convert {\n",
              "      background-color: #E8F0FE;\n",
              "      border: none;\n",
              "      border-radius: 50%;\n",
              "      cursor: pointer;\n",
              "      display: none;\n",
              "      fill: #1967D2;\n",
              "      height: 32px;\n",
              "      padding: 0 0 0 0;\n",
              "      width: 32px;\n",
              "    }\n",
              "\n",
              "    .colab-df-convert:hover {\n",
              "      background-color: #E2EBFA;\n",
              "      box-shadow: 0px 1px 2px rgba(60, 64, 67, 0.3), 0px 1px 3px 1px rgba(60, 64, 67, 0.15);\n",
              "      fill: #174EA6;\n",
              "    }\n",
              "\n",
              "    [theme=dark] .colab-df-convert {\n",
              "      background-color: #3B4455;\n",
              "      fill: #D2E3FC;\n",
              "    }\n",
              "\n",
              "    [theme=dark] .colab-df-convert:hover {\n",
              "      background-color: #434B5C;\n",
              "      box-shadow: 0px 1px 3px 1px rgba(0, 0, 0, 0.15);\n",
              "      filter: drop-shadow(0px 1px 2px rgba(0, 0, 0, 0.3));\n",
              "      fill: #FFFFFF;\n",
              "    }\n",
              "  </style>\n",
              "\n",
              "      <script>\n",
              "        const buttonEl =\n",
              "          document.querySelector('#df-bfa407a1-3a89-41d4-860d-c0fae592cba5 button.colab-df-convert');\n",
              "        buttonEl.style.display =\n",
              "          google.colab.kernel.accessAllowed ? 'block' : 'none';\n",
              "\n",
              "        async function convertToInteractive(key) {\n",
              "          const element = document.querySelector('#df-bfa407a1-3a89-41d4-860d-c0fae592cba5');\n",
              "          const dataTable =\n",
              "            await google.colab.kernel.invokeFunction('convertToInteractive',\n",
              "                                                     [key], {});\n",
              "          if (!dataTable) return;\n",
              "\n",
              "          const docLinkHtml = 'Like what you see? Visit the ' +\n",
              "            '<a target=\"_blank\" href=https://colab.research.google.com/notebooks/data_table.ipynb>data table notebook</a>'\n",
              "            + ' to learn more about interactive tables.';\n",
              "          element.innerHTML = '';\n",
              "          dataTable['output_type'] = 'display_data';\n",
              "          await google.colab.output.renderOutput(dataTable, element);\n",
              "          const docLink = document.createElement('div');\n",
              "          docLink.innerHTML = docLinkHtml;\n",
              "          element.appendChild(docLink);\n",
              "        }\n",
              "      </script>\n",
              "    </div>\n",
              "  </div>\n",
              "  "
            ],
            "text/plain": [
              "   Cement  Blast Furnace Slag  Fly Ash  Water  Superplasticizer  \\\n",
              "0   540.0                 0.0      0.0  162.0               2.5   \n",
              "1   540.0                 0.0      0.0  162.0               2.5   \n",
              "2   332.5               142.5      0.0  228.0               0.0   \n",
              "3   332.5               142.5      0.0  228.0               0.0   \n",
              "4   198.6               132.4      0.0  192.0               0.0   \n",
              "\n",
              "   Coarse Aggregate  Fine Aggregate  Age  Strength  \n",
              "0            1040.0           676.0   28     79.99  \n",
              "1            1055.0           676.0   28     61.89  \n",
              "2             932.0           594.0  270     40.27  \n",
              "3             932.0           594.0  365     41.05  \n",
              "4             978.4           825.5  360     44.30  "
            ]
          },
          "execution_count": 3,
          "metadata": {},
          "output_type": "execute_result"
        }
      ],
      "source": [
        "df.head()"
      ]
    },
    {
      "cell_type": "code",
      "execution_count": 4,
      "metadata": {
        "colab": {
          "base_uri": "https://localhost:8080/"
        },
        "id": "G54LOsMSg4XH",
        "outputId": "dfe1dc7c-30e7-4906-c4f4-521fe346856b"
      },
      "outputs": [
        {
          "data": {
            "text/plain": [
              "Index(['Cement', 'Blast Furnace Slag', 'Fly Ash', 'Water', 'Superplasticizer',\n",
              "       'Coarse Aggregate', 'Fine Aggregate', 'Age', 'Strength'],\n",
              "      dtype='object')"
            ]
          },
          "execution_count": 4,
          "metadata": {},
          "output_type": "execute_result"
        }
      ],
      "source": [
        "df.columns"
      ]
    },
    {
      "cell_type": "markdown",
      "metadata": {
        "id": "oGVoTHBMhLrM"
      },
      "source": [
        "# Building a baseline model"
      ]
    },
    {
      "cell_type": "markdown",
      "metadata": {
        "id": "C91elUuhiHf7"
      },
      "source": [
        "### Import libraries"
      ]
    },
    {
      "cell_type": "code",
      "execution_count": 10,
      "metadata": {
        "id": "WqVp3YHwhB-G"
      },
      "outputs": [],
      "source": [
        "import keras\n",
        "from keras.models import Sequential\n",
        "from keras.layers import Dense\n",
        "from sklearn.model_selection import train_test_split"
      ]
    },
    {
      "cell_type": "code",
      "execution_count": 6,
      "metadata": {
        "colab": {
          "base_uri": "https://localhost:8080/"
        },
        "id": "IlXmm8oUhiac",
        "outputId": "8aff4306-95f4-4eb9-b313-2983100d2bab"
      },
      "outputs": [
        {
          "data": {
            "text/plain": [
              "8"
            ]
          },
          "execution_count": 6,
          "metadata": {},
          "output_type": "execute_result"
        }
      ],
      "source": [
        "n_cols = len(df.columns) -1\n",
        "n_cols"
      ]
    },
    {
      "cell_type": "markdown",
      "metadata": {
        "id": "fkxeCDAbiBxk"
      },
      "source": [
        "### Define the neural network model\n"
      ]
    },
    {
      "cell_type": "code",
      "execution_count": 9,
      "metadata": {
        "id": "M4f5CVNVhTb_"
      },
      "outputs": [],
      "source": [
        "# Create model with 10 nodes and relu activation function\n",
        "model = Sequential()\n",
        "model.add(Dense(10, activation='relu', input_shape=(n_cols,)))\n",
        "# compile the model with adam optimizer and mean squared loss function\n",
        "model.compile(loss='mean_squared_error', optimizer='adam')"
      ]
    },
    {
      "cell_type": "markdown",
      "metadata": {
        "id": "oK7w-T0Mj9LX"
      },
      "source": [
        "### Normalize and split the data by holding 30% as testing set"
      ]
    },
    {
      "cell_type": "code",
      "execution_count": 17,
      "metadata": {
        "id": "wyLVD1zhiTs7"
      },
      "outputs": [],
      "source": [
        "# Split the DataFrame into input features (X) and target variable (y)\n",
        "X = df.drop('Strength', axis=1)  \n",
        "y = df['Strength'] \n",
        "\n",
        "# Normalizing data\n",
        "mean = X.mean(axis=0)\n",
        "std = X.std(axis=0)\n",
        "X = (X - mean) / std\n",
        "\n",
        "# Split the data into training and testing sets\n",
        "X_train, X_test, y_train, y_test = train_test_split(X, y, test_size=0.3, random_state=42)"
      ]
    },
    {
      "cell_type": "markdown",
      "metadata": {
        "id": "NBxz3QPskGlM"
      },
      "source": [
        "### Train the model with 50 epochs"
      ]
    },
    {
      "cell_type": "code",
      "execution_count": 18,
      "metadata": {
        "colab": {
          "base_uri": "https://localhost:8080/"
        },
        "id": "DuXDNSM-iNAf",
        "outputId": "cfc1003c-89d4-4163-9786-548aeb37e7e8"
      },
      "outputs": [
        {
          "data": {
            "text/plain": [
              "<keras.callbacks.History at 0x7fcbf7509540>"
            ]
          },
          "execution_count": 18,
          "metadata": {},
          "output_type": "execute_result"
        }
      ],
      "source": [
        "# train the model\n",
        "model.fit(X_train, y_train, epochs=50, batch_size=10, verbose=0)"
      ]
    },
    {
      "cell_type": "markdown",
      "metadata": {
        "id": "NWR4zoZjkvRX"
      },
      "source": [
        "### Evaluate the model on test data"
      ]
    },
    {
      "cell_type": "code",
      "execution_count": 19,
      "metadata": {
        "colab": {
          "base_uri": "https://localhost:8080/"
        },
        "id": "L4MM7AaskrXc",
        "outputId": "7f160d59-dc2b-4c11-d4f6-bbcc4c55ed6b"
      },
      "outputs": [
        {
          "name": "stdout",
          "output_type": "stream",
          "text": [
            "10/10 [==============================] - 0s 1ms/step - loss: 1154.0498\n"
          ]
        },
        {
          "data": {
            "text/plain": [
              "1154.0498046875"
            ]
          },
          "execution_count": 19,
          "metadata": {},
          "output_type": "execute_result"
        }
      ],
      "source": [
        "loss = model.evaluate(X_test, y_test)\n",
        "loss"
      ]
    },
    {
      "cell_type": "markdown",
      "metadata": {
        "id": "rlW_Y8bvlMGb"
      },
      "source": [
        "### Simulating the evaluation 50 times"
      ]
    },
    {
      "cell_type": "code",
      "execution_count": 20,
      "metadata": {
        "colab": {
          "base_uri": "https://localhost:8080/"
        },
        "id": "rxrqxOOulDNW",
        "outputId": "a368569e-2099-4c98-e5d0-26e1f52a73b1"
      },
      "outputs": [
        {
          "name": "stdout",
          "output_type": "stream",
          "text": [
            "10/10 [==============================] - 0s 1ms/step - loss: 940.9299\n",
            "10/10 [==============================] - 0s 1ms/step - loss: 759.4980\n",
            "10/10 [==============================] - 0s 1ms/step - loss: 605.5544\n",
            "10/10 [==============================] - 0s 1ms/step - loss: 477.2057\n",
            "10/10 [==============================] - 0s 2ms/step - loss: 363.4659\n",
            "10/10 [==============================] - 0s 1ms/step - loss: 258.4652\n",
            "10/10 [==============================] - 0s 2ms/step - loss: 185.3644\n",
            "10/10 [==============================] - 0s 1ms/step - loss: 142.5404\n",
            "10/10 [==============================] - 0s 2ms/step - loss: 121.5537\n",
            "10/10 [==============================] - 0s 1ms/step - loss: 114.3197\n",
            "10/10 [==============================] - 0s 1ms/step - loss: 112.4036\n",
            "10/10 [==============================] - 0s 1ms/step - loss: 111.5071\n",
            "10/10 [==============================] - 0s 1ms/step - loss: 111.0185\n",
            "10/10 [==============================] - 0s 1ms/step - loss: 110.5200\n",
            "10/10 [==============================] - 0s 2ms/step - loss: 110.0296\n",
            "10/10 [==============================] - 0s 1ms/step - loss: 109.7857\n",
            "10/10 [==============================] - 0s 1ms/step - loss: 109.4577\n",
            "10/10 [==============================] - 0s 1ms/step - loss: 109.2428\n",
            "10/10 [==============================] - 0s 1ms/step - loss: 109.2054\n",
            "10/10 [==============================] - 0s 1ms/step - loss: 108.9409\n",
            "10/10 [==============================] - 0s 1ms/step - loss: 108.7568\n",
            "10/10 [==============================] - 0s 1ms/step - loss: 108.6746\n",
            "10/10 [==============================] - 0s 1ms/step - loss: 108.6758\n",
            "10/10 [==============================] - 0s 1ms/step - loss: 108.6185\n",
            "10/10 [==============================] - 0s 1ms/step - loss: 108.5096\n",
            "10/10 [==============================] - 0s 1ms/step - loss: 108.4085\n",
            "10/10 [==============================] - 0s 2ms/step - loss: 108.4385\n",
            "10/10 [==============================] - 0s 1ms/step - loss: 108.4762\n",
            "10/10 [==============================] - 0s 1ms/step - loss: 108.4187\n",
            "10/10 [==============================] - 0s 2ms/step - loss: 108.4179\n",
            "10/10 [==============================] - 0s 2ms/step - loss: 108.3391\n",
            "10/10 [==============================] - 0s 1ms/step - loss: 108.2815\n",
            "10/10 [==============================] - 0s 1ms/step - loss: 108.2561\n",
            "10/10 [==============================] - 0s 1ms/step - loss: 108.3791\n",
            "10/10 [==============================] - 0s 1ms/step - loss: 108.2243\n",
            "10/10 [==============================] - 0s 1ms/step - loss: 108.2885\n",
            "10/10 [==============================] - 0s 2ms/step - loss: 108.2494\n",
            "10/10 [==============================] - 0s 1ms/step - loss: 108.3511\n",
            "10/10 [==============================] - 0s 1ms/step - loss: 108.5112\n",
            "10/10 [==============================] - 0s 1ms/step - loss: 108.4921\n",
            "10/10 [==============================] - 0s 1ms/step - loss: 108.4958\n",
            "10/10 [==============================] - 0s 1ms/step - loss: 108.4684\n",
            "10/10 [==============================] - 0s 1ms/step - loss: 108.4189\n",
            "10/10 [==============================] - 0s 1ms/step - loss: 108.5527\n",
            "10/10 [==============================] - 0s 1ms/step - loss: 108.3727\n",
            "10/10 [==============================] - 0s 2ms/step - loss: 108.5652\n",
            "10/10 [==============================] - 0s 1ms/step - loss: 108.5851\n",
            "10/10 [==============================] - 0s 1ms/step - loss: 108.6609\n",
            "10/10 [==============================] - 0s 1ms/step - loss: 108.6786\n",
            "10/10 [==============================] - 0s 2ms/step - loss: 108.6497\n"
          ]
        }
      ],
      "source": [
        "loss_list = []\n",
        "for i in range(50):\n",
        "  X_train, X_test, y_train, y_test = train_test_split(X, y, test_size=0.3, random_state=42)\n",
        "  model.fit(X_train, y_train, epochs=50, batch_size=10, verbose=0)\n",
        "  loss = model.evaluate(X_test, y_test)\n",
        "  loss_list.append(loss)"
      ]
    },
    {
      "cell_type": "markdown",
      "metadata": {
        "id": "M_4NywZ_m3X0"
      },
      "source": [
        "### Find standard deviation and mean of the loss"
      ]
    },
    {
      "cell_type": "code",
      "execution_count": 21,
      "metadata": {
        "colab": {
          "base_uri": "https://localhost:8080/"
        },
        "id": "CLFAAbBkl5p5",
        "outputId": "db38e304-6bf7-40c9-f8eb-3a9421e4f962"
      },
      "outputs": [
        {
          "name": "stdout",
          "output_type": "stream",
          "text": [
            "Mean: 166.50448150634764\n",
            "Standard deviation: 170.61286644160424\n"
          ]
        }
      ],
      "source": [
        "import statistics\n",
        "# Calculate the mean and standard deviation of the loss list\n",
        "mean = statistics.mean(loss_list)\n",
        "stdev = statistics.stdev(loss_list)\n",
        "\n",
        "# Print the mean and standard deviation\n",
        "print(\"Mean:\", mean)\n",
        "print(\"Standard deviation:\", stdev)"
      ]
    },
    {
      "cell_type": "code",
      "execution_count": 22,
      "metadata": {
        "colab": {
          "base_uri": "https://localhost:8080/"
        },
        "id": "8ho6SM7cqh77",
        "outputId": "06b0118e-1264-44bf-ff5b-29fe5ba289de"
      },
      "outputs": [
        {
          "name": "stdout",
          "output_type": "stream",
          "text": [
            "Mean without normalization: 671.8741162109375\n",
            "Mean after normalization: 166.50448150634764\n",
            "Standard deviation without normalization: 29.01283187338398\n",
            "Standard deviation after normalization: 170.61286644160424\n"
          ]
        }
      ],
      "source": [
        "print(\"Mean without normalization:\", 671.8741162109375)\n",
        "print(\"Mean after normalization:\", mean)\n",
        "print(\"Standard deviation without normalization:\", 29.01283187338398)\n",
        "print(\"Standard deviation after normalization:\", stdev)"
      ]
    }
  ],
  "metadata": {
    "colab": {
      "provenance": []
    },
    "kernelspec": {
      "display_name": "Python 3",
      "name": "python3"
    },
    "language_info": {
      "name": "python"
    }
  },
  "nbformat": 4,
  "nbformat_minor": 0
}
