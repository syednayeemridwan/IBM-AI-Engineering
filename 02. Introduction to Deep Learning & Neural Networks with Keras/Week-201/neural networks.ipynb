{
 "cells": [
  {
   "attachments": {},
   "cell_type": "markdown",
   "metadata": {},
   "source": [
    "# Activation Function"
   ]
  },
  {
   "attachments": {},
   "cell_type": "markdown",
   "metadata": {},
   "source": [
    "Maps weighted sum of inputs to a non-linear space for better processing of data.\n",
    "Activation functions are used for non-linear transformation.\n",
    "It decides whether a neuron should be activated or not (Whether the information \n",
    "in the neuron should be ignored or not).\n",
    "Note : A neural network without an activation function is just \n",
    "a linear regression model. Activation function performs non-linear transformation\n",
    "to the input enabling the neural network to work with complex tasks"
   ]
  }
 ],
 "metadata": {
  "language_info": {
   "name": "python"
  },
  "orig_nbformat": 4
 },
 "nbformat": 4,
 "nbformat_minor": 2
}
