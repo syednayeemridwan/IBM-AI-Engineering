{
 "cells": [
  {
   "attachments": {},
   "cell_type": "markdown",
   "metadata": {},
   "source": [
    "# Biological and Artificial Neurons"
   ]
  },
  {
   "attachments": {},
   "cell_type": "markdown",
   "metadata": {},
   "source": [
    "<center><img src=\"images/01.03.png\"  style=\"width: 400px, height: 300px;\"/></center>\n"
   ]
  },
  {
   "attachments": {},
   "cell_type": "markdown",
   "metadata": {},
   "source": [
    "- Dendrites carries information to the nucleus. The artificial network was also designed similarly (the nucleus is the neuron itself in artificial neurons).\n",
    "- The processed information is passed to the axons in biological neurons. In artifical neurons, the processed information is further transformed by activation function\n",
    "- In biological neurons, axons carry the processed information to axon terminals, which carry forward the processed information towards other neurons. In artificial neurons, the activation function determines the output information of the neuron and then the output information is carried to the next layer's neuron as next layer's neuron's input.\n"
   ]
  },
  {
   "attachments": {},
   "cell_type": "markdown",
   "metadata": {},
   "source": [
    "# Forward Propagation"
   ]
  },
  {
   "attachments": {},
   "cell_type": "markdown",
   "metadata": {},
   "source": [
    "<center><img src=\"images/01.01.png\"  style=\"width: 400px, height: 300px;\"/></center>\n",
    "<center><img src=\"images/01.02.png\"  style=\"width: 400px, height: 300px;\"/></center>"
   ]
  },
  {
   "attachments": {},
   "cell_type": "markdown",
   "metadata": {},
   "source": [
    "- x1, x2 are inputs\n",
    "- w1, w2 are weights of corresponding inputs\n",
    "- b1, b2 are bias of different neurons\n",
    "- when all inputs go to the first layer's neuron (input neuron)\n",
    "- The neuron processes the inputs by producing the weighted sum of these inputs: `z1 = w1*x1 + w2*x2 + b1`\n",
    "- The weighted sum is not significant enough to produce complex calculations. So activation function is used.\n",
    "- Sigmoid activation function makes the value between 0 and 1 to signify how much of the neuron is activated for a task\n",
    "- The value produced by the activation function is then carried to the next layer's neuron as input value\n",
    "- This process continues until the output.\n",
    "- This algorithm is forward propagation algorithm."
   ]
  },
  {
   "attachments": {},
   "cell_type": "markdown",
   "metadata": {},
   "source": [
    "# Activation Function"
   ]
  },
  {
   "attachments": {},
   "cell_type": "markdown",
   "metadata": {},
   "source": [
    "- It maps weighted sum of inputs to a non-linear space for better processing of data.\n",
    "- Activation functions are used for non-linear transformation.\n",
    "- It decides whether a neuron should be activated or not (Whether the information in the neuron should be ignored or not).\n",
    "- A neural network without an activation function is just a linear regression model. \n",
    "- Activation function performs non-linear transformation to the input enabling the neural network to work with complex tasks"
   ]
  }
 ],
 "metadata": {
  "language_info": {
   "name": "python"
  },
  "orig_nbformat": 4
 },
 "nbformat": 4,
 "nbformat_minor": 2
}
