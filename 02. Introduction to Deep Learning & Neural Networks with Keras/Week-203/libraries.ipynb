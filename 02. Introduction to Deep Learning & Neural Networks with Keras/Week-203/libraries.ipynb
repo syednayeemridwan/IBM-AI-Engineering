{
 "cells": [
  {
   "attachments": {},
   "cell_type": "markdown",
   "metadata": {},
   "source": [
    "# Popular Libraries"
   ]
  },
  {
   "attachments": {},
   "cell_type": "markdown",
   "metadata": {},
   "source": [
    "- Tensorflow\n",
    "    - Most popular\n",
    "    - Used by google\n",
    "    - Low level customization possible\n",
    "- Keras\n",
    "    - API for tensorflow\n",
    "    - Used for fast prototyping and development\n",
    "- Pytorch\n",
    "    - Strong competitor for tensorflow\n",
    "    - Optimization of custom expressions possible\n",
    "    - Lua-based, fast and feels native"
   ]
  },
  {
   "attachments": {},
   "cell_type": "markdown",
   "metadata": {},
   "source": [
    "# Dense network"
   ]
  },
  {
   "attachments": {},
   "cell_type": "markdown",
   "metadata": {},
   "source": [
    "if all the nodes in one layer is connected with all the other nodes in the next layer, then that type of neural network is called dense network or densely connected neural network."
   ]
  },
  {
   "cell_type": "markdown",
   "metadata": {},
   "source": []
  }
 ],
 "metadata": {
  "language_info": {
   "name": "python"
  },
  "orig_nbformat": 4
 },
 "nbformat": 4,
 "nbformat_minor": 2
}
