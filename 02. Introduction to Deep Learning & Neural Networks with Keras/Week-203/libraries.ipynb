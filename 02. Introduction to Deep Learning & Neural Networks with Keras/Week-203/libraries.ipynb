{
 "cells": [
  {
   "attachments": {},
   "cell_type": "markdown",
   "metadata": {},
   "source": [
    "# Popular Libraries"
   ]
  },
  {
   "attachments": {},
   "cell_type": "markdown",
   "metadata": {},
   "source": [
    "- Tensorflow\n",
    "    - Most popular\n",
    "    - Used by google\n",
    "    - Low level customization possible\n",
    "- Keras\n",
    "    - API for tensorflow\n",
    "    - Used for fast prototyping and development\n",
    "- Pytorch\n",
    "    - Strong competitor for tensorflow\n",
    "    - Optimization of custom expressions possible\n",
    "    - Lua-based, fast and feels native"
   ]
  },
  {
   "attachments": {},
   "cell_type": "markdown",
   "metadata": {},
   "source": [
    "# Dense network"
   ]
  },
  {
   "attachments": {},
   "cell_type": "markdown",
   "metadata": {},
   "source": [
    "<center><img src=\"images/01.02.png\"  style=\"width: 400px, height: 300px;\"/></center>\n"
   ]
  },
  {
   "attachments": {},
   "cell_type": "markdown",
   "metadata": {},
   "source": [
    "if all the nodes in one layer is connected with all the other nodes in the next layer, then that type of neural network is called dense network or densely connected neural network."
   ]
  },
  {
   "attachments": {},
   "cell_type": "markdown",
   "metadata": {},
   "source": [
    "# Creating a neural network"
   ]
  },
  {
   "attachments": {},
   "cell_type": "markdown",
   "metadata": {},
   "source": [
    "<center><img src=\"images/01.01.png\"  style=\"width: 400px, height: 300px;\"/></center>\n"
   ]
  },
  {
   "attachments": {},
   "cell_type": "markdown",
   "metadata": {},
   "source": [
    "1. Separate dataset's predictor columns and target column\n",
    "2. Create a sequential model\n",
    "3. Start adding Dense layers in the sequential model\n",
    "4. First Dense layer (Input layer) has same number of inputs as predictor columns\n",
    "5. Add other Dense layers as hidden layers\n",
    "6. The last layer (Output layer) has typically one neuron that determines the result"
   ]
  },
  {
   "cell_type": "code",
   "execution_count": null,
   "metadata": {},
   "outputs": [],
   "source": [
    "import keras\n",
    "from keras.models import Sequential\n",
    "from keras.layers import Dense\n",
    "\n",
    "# Get number of predictor columns\n",
    "n_cols = df.shape[1]\n",
    "\n",
    "# define the neural network model\n",
    "model = Sequential()\n",
    "model.add(Dense(5, activation='relu', input_shape=(n_cols,)))\n",
    "model.add(Dense(5,  activation='relu'))\n",
    "model.add(Dense(1, activation='linear'))\n",
    "\n",
    "# compile the model\n",
    "model.compile(loss='mean_squared_error', optimizer='adam')\n",
    "\n",
    "# train the model\n",
    "model.fit(X_Train, y_train, epochs=50, batch_size=10, verbose=0)\n",
    "\n",
    "# evaluate the model\n",
    "loss = model.evaluate(X_Train, y_train)\n",
    "print('Mean Squared Error:', loss)\n",
    "\n",
    "# predict\n",
    "predictions = model.predict(X_Test)"
   ]
  }
 ],
 "metadata": {
  "kernelspec": {
   "display_name": "env_py",
   "language": "python",
   "name": "python3"
  },
  "language_info": {
   "name": "python",
   "version": "3.8.11"
  },
  "orig_nbformat": 4
 },
 "nbformat": 4,
 "nbformat_minor": 2
}
