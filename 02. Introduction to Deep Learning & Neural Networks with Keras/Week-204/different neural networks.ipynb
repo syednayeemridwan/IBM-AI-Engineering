{
 "cells": [
  {
   "attachments": {},
   "cell_type": "markdown",
   "metadata": {},
   "source": [
    "# Types based on depth"
   ]
  },
  {
   "attachments": {},
   "cell_type": "markdown",
   "metadata": {},
   "source": [
    "- Shallow neural network: The neural networks with typically 1 or 2 hidden layers\n",
    "- Deep neural network: The neural networks with many hidden layers with large neurons in each layer\n"
   ]
  }
 ],
 "metadata": {
  "language_info": {
   "name": "python"
  },
  "orig_nbformat": 4
 },
 "nbformat": 4,
 "nbformat_minor": 2
}
