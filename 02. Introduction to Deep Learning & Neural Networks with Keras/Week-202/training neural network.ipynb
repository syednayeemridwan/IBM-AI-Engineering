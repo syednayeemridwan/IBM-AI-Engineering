{
 "cells": [
  {
   "attachments": {},
   "cell_type": "markdown",
   "metadata": {},
   "source": [
    "# Cost / Loss Function"
   ]
  },
  {
   "attachments": {},
   "cell_type": "markdown",
   "metadata": {},
   "source": [
    "- Cost function is a way to calculate the total error of the model.\n",
    "- It calculates the difference between actual and predicted values for all data in the training dataset. \n",
    "- The lower the cost, the better the model is at estimating labels. \n",
    "- Cost function tells us which model is the best fit\n",
    "- Optimization algorithms try to minimize the cost and find the optimized cost for the model at certain point like when should we stop estimating cost, how long should we iterate the process of estimating cost (eg: gradient descent). "
   ]
  }
 ],
 "metadata": {
  "language_info": {
   "name": "python"
  },
  "orig_nbformat": 4
 },
 "nbformat": 4,
 "nbformat_minor": 2
}
