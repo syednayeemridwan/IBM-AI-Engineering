{
 "cells": [
  {
   "cell_type": "code",
   "execution_count": 1,
   "metadata": {},
   "outputs": [
    {
     "name": "stdout",
     "output_type": "stream",
     "text": [
      "[[0.12026453]\n",
      " [0.90569536]\n",
      " [0.90575382]\n",
      " [0.07672215]]\n"
     ]
    }
   ],
   "source": [
    "import numpy as np\n",
    "\n",
    "# Define the activation function (sigmoid in this case)\n",
    "def sigmoid(x):\n",
    "    return 1 / (1 + np.exp(-x))\n",
    "\n",
    "# Define the derivative of the activation function\n",
    "def sigmoid_derivative(x):\n",
    "    return x * (1 - x)\n",
    "\n",
    "# Define the neural network architecture\n",
    "input_layer_size = 2\n",
    "hidden_layer_size = 4\n",
    "output_layer_size = 1\n",
    "\n",
    "# Initialize the weights for each layer\n",
    "w1 = np.random.uniform(size=(input_layer_size, hidden_layer_size))\n",
    "w2 = np.random.uniform(size=(hidden_layer_size, output_layer_size))\n",
    "\n",
    "# Define the input and target output\n",
    "X = np.array([[0, 0], [0, 1], [1, 0], [1, 1]])\n",
    "y = np.array([[0], [1], [1], [0]])\n",
    "\n",
    "# Define the learning rate and number of epochs\n",
    "learning_rate = 0.1\n",
    "epochs = 10000\n",
    "\n",
    "# Train the network\n",
    "for i in range(epochs):\n",
    "    # Forward propagation\n",
    "    layer1_output = sigmoid(np.dot(X, w1))\n",
    "    output = sigmoid(np.dot(layer1_output, w2))\n",
    "\n",
    "    # Backpropagation\n",
    "    error = y - output\n",
    "    output_delta = error * sigmoid_derivative(output)\n",
    "    layer1_error = output_delta.dot(w2.T)\n",
    "    layer1_delta = layer1_error * sigmoid_derivative(layer1_output)\n",
    "\n",
    "    # Update weights\n",
    "    w2 += layer1_output.T.dot(output_delta) * learning_rate\n",
    "    w1 += X.T.dot(layer1_delta) * learning_rate\n",
    "\n",
    "# Test the network\n",
    "test_input = np.array([[0, 0], [0, 1], [1, 0], [1, 1]])\n",
    "test_output = sigmoid(np.dot(sigmoid(np.dot(test_input, w1)), w2))\n",
    "print(test_output)\n"
   ]
  }
 ],
 "metadata": {
  "kernelspec": {
   "display_name": "env_py",
   "language": "python",
   "name": "python3"
  },
  "language_info": {
   "codemirror_mode": {
    "name": "ipython",
    "version": 3
   },
   "file_extension": ".py",
   "mimetype": "text/x-python",
   "name": "python",
   "nbconvert_exporter": "python",
   "pygments_lexer": "ipython3",
   "version": "3.8.11"
  },
  "orig_nbformat": 4
 },
 "nbformat": 4,
 "nbformat_minor": 2
}
