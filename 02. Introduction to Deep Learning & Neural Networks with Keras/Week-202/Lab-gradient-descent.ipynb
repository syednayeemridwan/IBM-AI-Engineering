{
 "cells": [
  {
   "attachments": {},
   "cell_type": "markdown",
   "metadata": {},
   "source": [
    "# Gradient Descent From Scratch\n"
   ]
  },
  {
   "attachments": {},
   "cell_type": "markdown",
   "metadata": {},
   "source": [
    "### Initial Function"
   ]
  },
  {
   "cell_type": "code",
   "execution_count": 4,
   "metadata": {},
   "outputs": [],
   "source": [
    "def func1(x):\n",
    "  return x**2-4*x+1"
   ]
  },
  {
   "attachments": {},
   "cell_type": "markdown",
   "metadata": {},
   "source": [
    "### Gradient of Function"
   ]
  },
  {
   "cell_type": "code",
   "execution_count": 5,
   "metadata": {},
   "outputs": [],
   "source": [
    "def gradient_func1(x):\n",
    "  return 2*x - 4"
   ]
  },
  {
   "attachments": {},
   "cell_type": "markdown",
   "metadata": {},
   "source": [
    "### Gradient Descent Algorithm"
   ]
  },
  {
   "cell_type": "code",
   "execution_count": 1,
   "metadata": {},
   "outputs": [],
   "source": [
    "import numpy as np\n",
    "\n",
    "def gradient_descent(start, gradient, learn_rate, max_iter, tol=0.01):\n",
    "  steps = [start] # history tracking\n",
    "  x = start\n",
    "\n",
    "  for _ in range(max_iter):\n",
    "    diff = learn_rate*gradient(x)\n",
    "    if np.abs(diff)<tol:\n",
    "      break    \n",
    "    x = x - diff\n",
    "    steps.append(x) # history tracing\n",
    "\n",
    "  return steps, x"
   ]
  },
  {
   "attachments": {},
   "cell_type": "markdown",
   "metadata": {},
   "source": [
    "### Implement gradient descent on the specified function"
   ]
  },
  {
   "cell_type": "code",
   "execution_count": 6,
   "metadata": {},
   "outputs": [],
   "source": [
    "\n",
    "history, result = gradient_descent(9, gradient_func1, 0.1, 100)"
   ]
  },
  {
   "attachments": {},
   "cell_type": "markdown",
   "metadata": {},
   "source": [
    "### Final outcome"
   ]
  },
  {
   "cell_type": "code",
   "execution_count": 7,
   "metadata": {},
   "outputs": [
    {
     "data": {
      "text/plain": [
       "2.041320706725109"
      ]
     },
     "execution_count": 7,
     "metadata": {},
     "output_type": "execute_result"
    }
   ],
   "source": [
    "result"
   ]
  },
  {
   "attachments": {},
   "cell_type": "markdown",
   "metadata": {},
   "source": [
    "### Trace of descent"
   ]
  },
  {
   "cell_type": "code",
   "execution_count": 8,
   "metadata": {},
   "outputs": [
    {
     "data": {
      "text/plain": [
       "[9,\n",
       " 7.6,\n",
       " 6.4799999999999995,\n",
       " 5.584,\n",
       " 4.8671999999999995,\n",
       " 4.29376,\n",
       " 3.8350079999999998,\n",
       " 3.4680063999999997,\n",
       " 3.17440512,\n",
       " 2.939524096,\n",
       " 2.7516192768,\n",
       " 2.60129542144,\n",
       " 2.481036337152,\n",
       " 2.3848290697216,\n",
       " 2.30786325577728,\n",
       " 2.246290604621824,\n",
       " 2.197032483697459,\n",
       " 2.1576259869579673,\n",
       " 2.1261007895663737,\n",
       " 2.100880631653099,\n",
       " 2.080704505322479,\n",
       " 2.064563604257983,\n",
       " 2.0516508834063862,\n",
       " 2.041320706725109]"
      ]
     },
     "execution_count": 8,
     "metadata": {},
     "output_type": "execute_result"
    }
   ],
   "source": [
    "history"
   ]
  }
 ],
 "metadata": {
  "kernelspec": {
   "display_name": "env_py",
   "language": "python",
   "name": "python3"
  },
  "language_info": {
   "codemirror_mode": {
    "name": "ipython",
    "version": 3
   },
   "file_extension": ".py",
   "mimetype": "text/x-python",
   "name": "python",
   "nbconvert_exporter": "python",
   "pygments_lexer": "ipython3",
   "version": "3.8.11"
  },
  "orig_nbformat": 4
 },
 "nbformat": 4,
 "nbformat_minor": 2
}
